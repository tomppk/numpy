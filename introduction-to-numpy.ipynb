{
 "cells": [
  {
   "cell_type": "code",
   "execution_count": 1,
   "id": "2ad4d973",
   "metadata": {},
   "outputs": [],
   "source": [
    "import numpy as np"
   ]
  },
  {
   "cell_type": "markdown",
   "id": "2c1af899",
   "metadata": {},
   "source": [
    "# 1. Datatypes & Attributes"
   ]
  },
  {
   "cell_type": "code",
   "execution_count": 3,
   "id": "c2c73b2e",
   "metadata": {},
   "outputs": [
    {
     "data": {
      "text/plain": [
       "array([1, 2, 3])"
      ]
     },
     "execution_count": 3,
     "metadata": {},
     "output_type": "execute_result"
    }
   ],
   "source": [
    "# NumPy's main datatype is ndarray\n",
    "a1 = np.array([1, 2, 3])\n",
    "a1"
   ]
  },
  {
   "cell_type": "code",
   "execution_count": 4,
   "id": "181381ca",
   "metadata": {},
   "outputs": [
    {
     "data": {
      "text/plain": [
       "numpy.ndarray"
      ]
     },
     "execution_count": 4,
     "metadata": {},
     "output_type": "execute_result"
    }
   ],
   "source": [
    "type(a1)"
   ]
  },
  {
   "cell_type": "code",
   "execution_count": 7,
   "id": "35fd5d63",
   "metadata": {},
   "outputs": [],
   "source": [
    "a2 = np.array([[1, 2.0, 3.3],\n",
    "             [4, 5, 6.5]])\n",
    "\n",
    "a3 = np.array([[[1, 2, 3],\n",
    "                [4, 5, 6]],\n",
    "            [[7, 8, 9],\n",
    "             [10, 11, 12]],\n",
    "            [[13, 14, 15],\n",
    "            [16, 17, 18]]])"
   ]
  },
  {
   "cell_type": "code",
   "execution_count": 8,
   "id": "2b1e6114",
   "metadata": {},
   "outputs": [
    {
     "data": {
      "text/plain": [
       "array([[1. , 2. , 3.3],\n",
       "       [4. , 5. , 6.5]])"
      ]
     },
     "execution_count": 8,
     "metadata": {},
     "output_type": "execute_result"
    }
   ],
   "source": [
    "a2"
   ]
  },
  {
   "cell_type": "code",
   "execution_count": 9,
   "id": "b88f02d6",
   "metadata": {},
   "outputs": [
    {
     "data": {
      "text/plain": [
       "array([[[ 1,  2,  3],\n",
       "        [ 4,  5,  6]],\n",
       "\n",
       "       [[ 7,  8,  9],\n",
       "        [10, 11, 12]],\n",
       "\n",
       "       [[13, 14, 15],\n",
       "        [16, 17, 18]]])"
      ]
     },
     "execution_count": 9,
     "metadata": {},
     "output_type": "execute_result"
    }
   ],
   "source": [
    "a3"
   ]
  },
  {
   "cell_type": "code",
   "execution_count": 10,
   "id": "a47fef1a",
   "metadata": {},
   "outputs": [
    {
     "data": {
      "text/plain": [
       "(3,)"
      ]
     },
     "execution_count": 10,
     "metadata": {},
     "output_type": "execute_result"
    }
   ],
   "source": [
    "a1.shape"
   ]
  },
  {
   "cell_type": "code",
   "execution_count": 11,
   "id": "4dc6ad7a",
   "metadata": {},
   "outputs": [
    {
     "data": {
      "text/plain": [
       "(2, 3)"
      ]
     },
     "execution_count": 11,
     "metadata": {},
     "output_type": "execute_result"
    }
   ],
   "source": [
    "a2.shape"
   ]
  },
  {
   "cell_type": "code",
   "execution_count": 12,
   "id": "26af1393",
   "metadata": {},
   "outputs": [
    {
     "data": {
      "text/plain": [
       "(3, 2, 3)"
      ]
     },
     "execution_count": 12,
     "metadata": {},
     "output_type": "execute_result"
    }
   ],
   "source": [
    "a3.shape"
   ]
  },
  {
   "cell_type": "code",
   "execution_count": 13,
   "id": "82741c45",
   "metadata": {},
   "outputs": [
    {
     "data": {
      "text/plain": [
       "(1, 2, 3)"
      ]
     },
     "execution_count": 13,
     "metadata": {},
     "output_type": "execute_result"
    }
   ],
   "source": [
    "a1.ndim, a2.ndim, a3.ndim"
   ]
  },
  {
   "cell_type": "code",
   "execution_count": 14,
   "id": "6c8f7d58",
   "metadata": {},
   "outputs": [
    {
     "data": {
      "text/plain": [
       "(dtype('int64'), dtype('float64'), dtype('int64'))"
      ]
     },
     "execution_count": 14,
     "metadata": {},
     "output_type": "execute_result"
    }
   ],
   "source": [
    "a1.dtype, a2.dtype, a3.dtype"
   ]
  },
  {
   "cell_type": "code",
   "execution_count": 15,
   "id": "54939562",
   "metadata": {},
   "outputs": [
    {
     "data": {
      "text/plain": [
       "(3, 6, 18)"
      ]
     },
     "execution_count": 15,
     "metadata": {},
     "output_type": "execute_result"
    }
   ],
   "source": [
    "a1.size, a2.size, a3.size"
   ]
  },
  {
   "cell_type": "code",
   "execution_count": 16,
   "id": "868c7e05",
   "metadata": {},
   "outputs": [
    {
     "data": {
      "text/plain": [
       "(numpy.ndarray, numpy.ndarray, numpy.ndarray)"
      ]
     },
     "execution_count": 16,
     "metadata": {},
     "output_type": "execute_result"
    }
   ],
   "source": [
    "type(a1), type(a2), type(a3)"
   ]
  },
  {
   "cell_type": "code",
   "execution_count": 18,
   "id": "c48d6f6b",
   "metadata": {},
   "outputs": [
    {
     "data": {
      "text/plain": [
       "array([[1. , 2. , 3.3],\n",
       "       [4. , 5. , 6.5]])"
      ]
     },
     "execution_count": 18,
     "metadata": {},
     "output_type": "execute_result"
    }
   ],
   "source": [
    "a2"
   ]
  },
  {
   "cell_type": "code",
   "execution_count": 17,
   "id": "bd83346d",
   "metadata": {},
   "outputs": [
    {
     "data": {
      "text/html": [
       "<div>\n",
       "<style scoped>\n",
       "    .dataframe tbody tr th:only-of-type {\n",
       "        vertical-align: middle;\n",
       "    }\n",
       "\n",
       "    .dataframe tbody tr th {\n",
       "        vertical-align: top;\n",
       "    }\n",
       "\n",
       "    .dataframe thead th {\n",
       "        text-align: right;\n",
       "    }\n",
       "</style>\n",
       "<table border=\"1\" class=\"dataframe\">\n",
       "  <thead>\n",
       "    <tr style=\"text-align: right;\">\n",
       "      <th></th>\n",
       "      <th>0</th>\n",
       "      <th>1</th>\n",
       "      <th>2</th>\n",
       "    </tr>\n",
       "  </thead>\n",
       "  <tbody>\n",
       "    <tr>\n",
       "      <th>0</th>\n",
       "      <td>1.0</td>\n",
       "      <td>2.0</td>\n",
       "      <td>3.3</td>\n",
       "    </tr>\n",
       "    <tr>\n",
       "      <th>1</th>\n",
       "      <td>4.0</td>\n",
       "      <td>5.0</td>\n",
       "      <td>6.5</td>\n",
       "    </tr>\n",
       "  </tbody>\n",
       "</table>\n",
       "</div>"
      ],
      "text/plain": [
       "     0    1    2\n",
       "0  1.0  2.0  3.3\n",
       "1  4.0  5.0  6.5"
      ]
     },
     "execution_count": 17,
     "metadata": {},
     "output_type": "execute_result"
    }
   ],
   "source": [
    "# Create a DataFrame from NumPy array\n",
    "import pandas as pd\n",
    "\n",
    "df = pd.DataFrame(a2)\n",
    "df"
   ]
  },
  {
   "cell_type": "code",
   "execution_count": 20,
   "id": "7cf2c754",
   "metadata": {},
   "outputs": [],
   "source": [
    "a4 = np.array([[100, 300, 600],\n",
    "                 [-200, -400, -500]])"
   ]
  },
  {
   "cell_type": "code",
   "execution_count": 21,
   "id": "2cfae2ba",
   "metadata": {},
   "outputs": [
    {
     "data": {
      "text/plain": [
       "array([[ 100,  300,  600],\n",
       "       [-200, -400, -500]])"
      ]
     },
     "execution_count": 21,
     "metadata": {},
     "output_type": "execute_result"
    }
   ],
   "source": [
    "a4"
   ]
  },
  {
   "cell_type": "code",
   "execution_count": 23,
   "id": "f834eb08",
   "metadata": {},
   "outputs": [
    {
     "data": {
      "text/html": [
       "<div>\n",
       "<style scoped>\n",
       "    .dataframe tbody tr th:only-of-type {\n",
       "        vertical-align: middle;\n",
       "    }\n",
       "\n",
       "    .dataframe tbody tr th {\n",
       "        vertical-align: top;\n",
       "    }\n",
       "\n",
       "    .dataframe thead th {\n",
       "        text-align: right;\n",
       "    }\n",
       "</style>\n",
       "<table border=\"1\" class=\"dataframe\">\n",
       "  <thead>\n",
       "    <tr style=\"text-align: right;\">\n",
       "      <th></th>\n",
       "      <th>0</th>\n",
       "      <th>1</th>\n",
       "      <th>2</th>\n",
       "    </tr>\n",
       "  </thead>\n",
       "  <tbody>\n",
       "    <tr>\n",
       "      <th>0</th>\n",
       "      <td>100</td>\n",
       "      <td>300</td>\n",
       "      <td>600</td>\n",
       "    </tr>\n",
       "    <tr>\n",
       "      <th>1</th>\n",
       "      <td>-200</td>\n",
       "      <td>-400</td>\n",
       "      <td>-500</td>\n",
       "    </tr>\n",
       "  </tbody>\n",
       "</table>\n",
       "</div>"
      ],
      "text/plain": [
       "     0    1    2\n",
       "0  100  300  600\n",
       "1 -200 -400 -500"
      ]
     },
     "execution_count": 23,
     "metadata": {},
     "output_type": "execute_result"
    }
   ],
   "source": [
    "df2 = pd.DataFrame(a4)\n",
    "df2"
   ]
  },
  {
   "cell_type": "markdown",
   "id": "ede38d29",
   "metadata": {},
   "source": [
    "# 2. Creating arrays"
   ]
  },
  {
   "cell_type": "code",
   "execution_count": 26,
   "id": "b726116e",
   "metadata": {},
   "outputs": [
    {
     "data": {
      "text/plain": [
       "array([10, 20, 30])"
      ]
     },
     "execution_count": 26,
     "metadata": {},
     "output_type": "execute_result"
    }
   ],
   "source": [
    "sample_array = np.array([10, 20, 30])\n",
    "sample_array"
   ]
  },
  {
   "cell_type": "code",
   "execution_count": 28,
   "id": "943ce106",
   "metadata": {},
   "outputs": [
    {
     "data": {
      "text/plain": [
       "dtype('int64')"
      ]
     },
     "execution_count": 28,
     "metadata": {},
     "output_type": "execute_result"
    }
   ],
   "source": [
    "sample_array.dtype"
   ]
  },
  {
   "cell_type": "code",
   "execution_count": 29,
   "id": "91d4e316",
   "metadata": {},
   "outputs": [
    {
     "data": {
      "text/plain": [
       "array([[1., 1., 1.],\n",
       "       [1., 1., 1.]])"
      ]
     },
     "execution_count": 29,
     "metadata": {},
     "output_type": "execute_result"
    }
   ],
   "source": [
    "ones = np.ones((2, 3))\n",
    "ones"
   ]
  },
  {
   "cell_type": "code",
   "execution_count": 30,
   "id": "d8bccd5f",
   "metadata": {},
   "outputs": [
    {
     "data": {
      "text/plain": [
       "dtype('float64')"
      ]
     },
     "execution_count": 30,
     "metadata": {},
     "output_type": "execute_result"
    }
   ],
   "source": [
    "ones.dtype"
   ]
  },
  {
   "cell_type": "code",
   "execution_count": 31,
   "id": "c4995195",
   "metadata": {},
   "outputs": [
    {
     "data": {
      "text/plain": [
       "numpy.ndarray"
      ]
     },
     "execution_count": 31,
     "metadata": {},
     "output_type": "execute_result"
    }
   ],
   "source": [
    "type(ones)"
   ]
  },
  {
   "cell_type": "code",
   "execution_count": 33,
   "id": "ed6658cb",
   "metadata": {},
   "outputs": [
    {
     "data": {
      "text/plain": [
       "array([[0., 0., 0.],\n",
       "       [0., 0., 0.]])"
      ]
     },
     "execution_count": 33,
     "metadata": {},
     "output_type": "execute_result"
    }
   ],
   "source": [
    "zeros = np.zeros((2, 3))\n",
    "zeros"
   ]
  },
  {
   "cell_type": "code",
   "execution_count": 35,
   "id": "12fd4582",
   "metadata": {},
   "outputs": [
    {
     "data": {
      "text/plain": [
       "array([0, 2, 4, 6, 8])"
      ]
     },
     "execution_count": 35,
     "metadata": {},
     "output_type": "execute_result"
    }
   ],
   "source": [
    "range_array = np.arange(0, 10, 2)\n",
    "range_array"
   ]
  },
  {
   "cell_type": "code",
   "execution_count": 37,
   "id": "eddcd784",
   "metadata": {},
   "outputs": [
    {
     "data": {
      "text/plain": [
       "array([[4, 4, 3, 4, 2],\n",
       "       [9, 6, 2, 6, 7],\n",
       "       [5, 7, 7, 2, 0]])"
      ]
     },
     "execution_count": 37,
     "metadata": {},
     "output_type": "execute_result"
    }
   ],
   "source": [
    "random_array = np.random.randint(0, 10, size=(3, 5))\n",
    "random_array"
   ]
  },
  {
   "cell_type": "code",
   "execution_count": 38,
   "id": "12c8b25e",
   "metadata": {},
   "outputs": [
    {
     "data": {
      "text/plain": [
       "15"
      ]
     },
     "execution_count": 38,
     "metadata": {},
     "output_type": "execute_result"
    }
   ],
   "source": [
    "random_array.size"
   ]
  },
  {
   "cell_type": "code",
   "execution_count": 39,
   "id": "5dd35b92",
   "metadata": {},
   "outputs": [
    {
     "data": {
      "text/plain": [
       "(3, 5)"
      ]
     },
     "execution_count": 39,
     "metadata": {},
     "output_type": "execute_result"
    }
   ],
   "source": [
    "random_array.shape"
   ]
  },
  {
   "cell_type": "code",
   "execution_count": 41,
   "id": "43ab80b0",
   "metadata": {},
   "outputs": [
    {
     "data": {
      "text/plain": [
       "array([[0.6738801 , 0.74185627, 0.63182597],\n",
       "       [0.87985717, 0.0751603 , 0.25195785],\n",
       "       [0.32667732, 0.20187023, 0.08929705],\n",
       "       [0.21077361, 0.9721349 , 0.43317288],\n",
       "       [0.15927657, 0.8343494 , 0.02381648]])"
      ]
     },
     "execution_count": 41,
     "metadata": {},
     "output_type": "execute_result"
    }
   ],
   "source": [
    "random_array_2 = np.random.random((5,3))\n",
    "random_array_2"
   ]
  },
  {
   "cell_type": "code",
   "execution_count": 42,
   "id": "a3d57406",
   "metadata": {},
   "outputs": [
    {
     "data": {
      "text/plain": [
       "array([[0.06731111, 0.19196405, 0.49729105],\n",
       "       [0.19230403, 0.53080072, 0.56099345],\n",
       "       [0.83775201, 0.68443157, 0.81150806],\n",
       "       [0.568133  , 0.17647416, 0.0907248 ],\n",
       "       [0.02697903, 0.83617927, 0.27941112]])"
      ]
     },
     "execution_count": 42,
     "metadata": {},
     "output_type": "execute_result"
    }
   ],
   "source": [
    "random_array_3 = np.random.rand(5, 3)\n",
    "random_array_3"
   ]
  },
  {
   "cell_type": "code",
   "execution_count": 45,
   "id": "48ec0811",
   "metadata": {},
   "outputs": [
    {
     "data": {
      "text/plain": [
       "array([[ 69,  37, 909, 860, 308],\n",
       "       [106, 801, 610, 460, 249],\n",
       "       [617, 139,  92, 567, 369],\n",
       "       [497, 883, 866, 515, 829],\n",
       "       [655, 808, 394, 300, 415],\n",
       "       [848, 165, 362, 483, 964],\n",
       "       [943, 598, 944, 638, 162],\n",
       "       [407, 465, 547, 896, 781],\n",
       "       [829, 206, 975, 850, 527],\n",
       "       [693, 462, 302, 761, 652]])"
      ]
     },
     "execution_count": 45,
     "metadata": {},
     "output_type": "execute_result"
    }
   ],
   "source": [
    "random_array_4 = np.random.randint(1, 1000, size=(10, 5))\n",
    "random_array_4"
   ]
  },
  {
   "cell_type": "code",
   "execution_count": 47,
   "id": "48ab7075",
   "metadata": {},
   "outputs": [
    {
     "data": {
      "text/html": [
       "<div>\n",
       "<style scoped>\n",
       "    .dataframe tbody tr th:only-of-type {\n",
       "        vertical-align: middle;\n",
       "    }\n",
       "\n",
       "    .dataframe tbody tr th {\n",
       "        vertical-align: top;\n",
       "    }\n",
       "\n",
       "    .dataframe thead th {\n",
       "        text-align: right;\n",
       "    }\n",
       "</style>\n",
       "<table border=\"1\" class=\"dataframe\">\n",
       "  <thead>\n",
       "    <tr style=\"text-align: right;\">\n",
       "      <th></th>\n",
       "      <th>0</th>\n",
       "      <th>1</th>\n",
       "      <th>2</th>\n",
       "      <th>3</th>\n",
       "      <th>4</th>\n",
       "    </tr>\n",
       "  </thead>\n",
       "  <tbody>\n",
       "    <tr>\n",
       "      <th>0</th>\n",
       "      <td>69</td>\n",
       "      <td>37</td>\n",
       "      <td>909</td>\n",
       "      <td>860</td>\n",
       "      <td>308</td>\n",
       "    </tr>\n",
       "    <tr>\n",
       "      <th>1</th>\n",
       "      <td>106</td>\n",
       "      <td>801</td>\n",
       "      <td>610</td>\n",
       "      <td>460</td>\n",
       "      <td>249</td>\n",
       "    </tr>\n",
       "    <tr>\n",
       "      <th>2</th>\n",
       "      <td>617</td>\n",
       "      <td>139</td>\n",
       "      <td>92</td>\n",
       "      <td>567</td>\n",
       "      <td>369</td>\n",
       "    </tr>\n",
       "    <tr>\n",
       "      <th>3</th>\n",
       "      <td>497</td>\n",
       "      <td>883</td>\n",
       "      <td>866</td>\n",
       "      <td>515</td>\n",
       "      <td>829</td>\n",
       "    </tr>\n",
       "    <tr>\n",
       "      <th>4</th>\n",
       "      <td>655</td>\n",
       "      <td>808</td>\n",
       "      <td>394</td>\n",
       "      <td>300</td>\n",
       "      <td>415</td>\n",
       "    </tr>\n",
       "    <tr>\n",
       "      <th>5</th>\n",
       "      <td>848</td>\n",
       "      <td>165</td>\n",
       "      <td>362</td>\n",
       "      <td>483</td>\n",
       "      <td>964</td>\n",
       "    </tr>\n",
       "    <tr>\n",
       "      <th>6</th>\n",
       "      <td>943</td>\n",
       "      <td>598</td>\n",
       "      <td>944</td>\n",
       "      <td>638</td>\n",
       "      <td>162</td>\n",
       "    </tr>\n",
       "    <tr>\n",
       "      <th>7</th>\n",
       "      <td>407</td>\n",
       "      <td>465</td>\n",
       "      <td>547</td>\n",
       "      <td>896</td>\n",
       "      <td>781</td>\n",
       "    </tr>\n",
       "    <tr>\n",
       "      <th>8</th>\n",
       "      <td>829</td>\n",
       "      <td>206</td>\n",
       "      <td>975</td>\n",
       "      <td>850</td>\n",
       "      <td>527</td>\n",
       "    </tr>\n",
       "    <tr>\n",
       "      <th>9</th>\n",
       "      <td>693</td>\n",
       "      <td>462</td>\n",
       "      <td>302</td>\n",
       "      <td>761</td>\n",
       "      <td>652</td>\n",
       "    </tr>\n",
       "  </tbody>\n",
       "</table>\n",
       "</div>"
      ],
      "text/plain": [
       "     0    1    2    3    4\n",
       "0   69   37  909  860  308\n",
       "1  106  801  610  460  249\n",
       "2  617  139   92  567  369\n",
       "3  497  883  866  515  829\n",
       "4  655  808  394  300  415\n",
       "5  848  165  362  483  964\n",
       "6  943  598  944  638  162\n",
       "7  407  465  547  896  781\n",
       "8  829  206  975  850  527\n",
       "9  693  462  302  761  652"
      ]
     },
     "execution_count": 47,
     "metadata": {},
     "output_type": "execute_result"
    }
   ],
   "source": [
    "df3 = pd.DataFrame(random_array_4)\n",
    "df3"
   ]
  },
  {
   "cell_type": "code",
   "execution_count": 48,
   "id": "bd2c0677",
   "metadata": {},
   "outputs": [
    {
     "data": {
      "text/plain": [
       "50"
      ]
     },
     "execution_count": 48,
     "metadata": {},
     "output_type": "execute_result"
    }
   ],
   "source": [
    "random_array_4.size"
   ]
  },
  {
   "cell_type": "code",
   "execution_count": 49,
   "id": "98b716ab",
   "metadata": {},
   "outputs": [
    {
     "data": {
      "text/plain": [
       "(10, 5)"
      ]
     },
     "execution_count": 49,
     "metadata": {},
     "output_type": "execute_result"
    }
   ],
   "source": [
    "random_array_4.shape"
   ]
  },
  {
   "cell_type": "code",
   "execution_count": 51,
   "id": "0e1fc7c5",
   "metadata": {},
   "outputs": [
    {
     "data": {
      "text/plain": [
       "array([[0.01912829, 0.85924293, 0.05544471, 0.1583418 , 0.95367443,\n",
       "        0.35592986, 0.58590284, 0.16769068, 0.99149455, 0.0788299 ],\n",
       "       [0.54197488, 0.21827082, 0.68329231, 0.04193458, 0.61095686,\n",
       "        0.08882037, 0.90942711, 0.83971662, 0.48678511, 0.49124605],\n",
       "       [0.13897462, 0.45193364, 0.33910085, 0.08318079, 0.3034872 ,\n",
       "        0.11883706, 0.24017176, 0.28912538, 0.46633524, 0.89801844],\n",
       "       [0.1833816 , 0.76085778, 0.22518617, 0.03517732, 0.64005686,\n",
       "        0.63575768, 0.15898058, 0.41275687, 0.26835702, 0.15639911],\n",
       "       [0.15131983, 0.94065558, 0.52231912, 0.06883862, 0.33230421,\n",
       "        0.91083129, 0.46801344, 0.79269015, 0.42029944, 0.84627583]])"
      ]
     },
     "execution_count": 51,
     "metadata": {},
     "output_type": "execute_result"
    }
   ],
   "source": [
    "random_array_5 = np.random.random(size=(5, 10))\n",
    "random_array_5"
   ]
  },
  {
   "cell_type": "code",
   "execution_count": 53,
   "id": "5d5e2c41",
   "metadata": {},
   "outputs": [
    {
     "data": {
      "text/html": [
       "<div>\n",
       "<style scoped>\n",
       "    .dataframe tbody tr th:only-of-type {\n",
       "        vertical-align: middle;\n",
       "    }\n",
       "\n",
       "    .dataframe tbody tr th {\n",
       "        vertical-align: top;\n",
       "    }\n",
       "\n",
       "    .dataframe thead th {\n",
       "        text-align: right;\n",
       "    }\n",
       "</style>\n",
       "<table border=\"1\" class=\"dataframe\">\n",
       "  <thead>\n",
       "    <tr style=\"text-align: right;\">\n",
       "      <th></th>\n",
       "      <th>0</th>\n",
       "      <th>1</th>\n",
       "      <th>2</th>\n",
       "      <th>3</th>\n",
       "      <th>4</th>\n",
       "      <th>5</th>\n",
       "      <th>6</th>\n",
       "      <th>7</th>\n",
       "      <th>8</th>\n",
       "      <th>9</th>\n",
       "    </tr>\n",
       "  </thead>\n",
       "  <tbody>\n",
       "    <tr>\n",
       "      <th>0</th>\n",
       "      <td>0.019128</td>\n",
       "      <td>0.859243</td>\n",
       "      <td>0.055445</td>\n",
       "      <td>0.158342</td>\n",
       "      <td>0.953674</td>\n",
       "      <td>0.355930</td>\n",
       "      <td>0.585903</td>\n",
       "      <td>0.167691</td>\n",
       "      <td>0.991495</td>\n",
       "      <td>0.078830</td>\n",
       "    </tr>\n",
       "    <tr>\n",
       "      <th>1</th>\n",
       "      <td>0.541975</td>\n",
       "      <td>0.218271</td>\n",
       "      <td>0.683292</td>\n",
       "      <td>0.041935</td>\n",
       "      <td>0.610957</td>\n",
       "      <td>0.088820</td>\n",
       "      <td>0.909427</td>\n",
       "      <td>0.839717</td>\n",
       "      <td>0.486785</td>\n",
       "      <td>0.491246</td>\n",
       "    </tr>\n",
       "    <tr>\n",
       "      <th>2</th>\n",
       "      <td>0.138975</td>\n",
       "      <td>0.451934</td>\n",
       "      <td>0.339101</td>\n",
       "      <td>0.083181</td>\n",
       "      <td>0.303487</td>\n",
       "      <td>0.118837</td>\n",
       "      <td>0.240172</td>\n",
       "      <td>0.289125</td>\n",
       "      <td>0.466335</td>\n",
       "      <td>0.898018</td>\n",
       "    </tr>\n",
       "    <tr>\n",
       "      <th>3</th>\n",
       "      <td>0.183382</td>\n",
       "      <td>0.760858</td>\n",
       "      <td>0.225186</td>\n",
       "      <td>0.035177</td>\n",
       "      <td>0.640057</td>\n",
       "      <td>0.635758</td>\n",
       "      <td>0.158981</td>\n",
       "      <td>0.412757</td>\n",
       "      <td>0.268357</td>\n",
       "      <td>0.156399</td>\n",
       "    </tr>\n",
       "    <tr>\n",
       "      <th>4</th>\n",
       "      <td>0.151320</td>\n",
       "      <td>0.940656</td>\n",
       "      <td>0.522319</td>\n",
       "      <td>0.068839</td>\n",
       "      <td>0.332304</td>\n",
       "      <td>0.910831</td>\n",
       "      <td>0.468013</td>\n",
       "      <td>0.792690</td>\n",
       "      <td>0.420299</td>\n",
       "      <td>0.846276</td>\n",
       "    </tr>\n",
       "  </tbody>\n",
       "</table>\n",
       "</div>"
      ],
      "text/plain": [
       "          0         1         2         3         4         5         6  \\\n",
       "0  0.019128  0.859243  0.055445  0.158342  0.953674  0.355930  0.585903   \n",
       "1  0.541975  0.218271  0.683292  0.041935  0.610957  0.088820  0.909427   \n",
       "2  0.138975  0.451934  0.339101  0.083181  0.303487  0.118837  0.240172   \n",
       "3  0.183382  0.760858  0.225186  0.035177  0.640057  0.635758  0.158981   \n",
       "4  0.151320  0.940656  0.522319  0.068839  0.332304  0.910831  0.468013   \n",
       "\n",
       "          7         8         9  \n",
       "0  0.167691  0.991495  0.078830  \n",
       "1  0.839717  0.486785  0.491246  \n",
       "2  0.289125  0.466335  0.898018  \n",
       "3  0.412757  0.268357  0.156399  \n",
       "4  0.792690  0.420299  0.846276  "
      ]
     },
     "execution_count": 53,
     "metadata": {},
     "output_type": "execute_result"
    }
   ],
   "source": [
    "df4 = pd.DataFrame(random_array_5)\n",
    "df4"
   ]
  },
  {
   "cell_type": "code",
   "execution_count": 56,
   "id": "e3a3652e",
   "metadata": {},
   "outputs": [
    {
     "data": {
      "text/plain": [
       "array([[0.50466308, 0.94516662, 0.85277205, 0.03495847, 0.32568643],\n",
       "       [0.05997924, 0.03421293, 0.60444629, 0.15932892, 0.6394312 ],\n",
       "       [0.00924751, 0.64519939, 0.48025824, 0.81138427, 0.87068626],\n",
       "       [0.85592342, 0.77682312, 0.07502446, 0.10305399, 0.75881192],\n",
       "       [0.92685303, 0.65932762, 0.12776474, 0.74924977, 0.46555528]])"
      ]
     },
     "execution_count": 56,
     "metadata": {},
     "output_type": "execute_result"
    }
   ],
   "source": [
    "random_array_6 = np.random.rand(5,5)\n",
    "random_array_6"
   ]
  },
  {
   "cell_type": "code",
   "execution_count": 58,
   "id": "7e6bf373",
   "metadata": {},
   "outputs": [
    {
     "data": {
      "text/plain": [
       "array([ 0,  5, 10, 15, 20, 25, 30, 35, 40, 45, 50, 55, 60, 65, 70, 75, 80,\n",
       "       85, 90, 95])"
      ]
     },
     "execution_count": 58,
     "metadata": {},
     "output_type": "execute_result"
    }
   ],
   "source": [
    "range_array_2 = np.arange(0, 100, 5)\n",
    "range_array_2"
   ]
  },
  {
   "cell_type": "code",
   "execution_count": 64,
   "id": "1778bb26",
   "metadata": {},
   "outputs": [
    {
     "data": {
      "text/plain": [
       "array([[5, 0, 3],\n",
       "       [3, 7, 9],\n",
       "       [3, 5, 2],\n",
       "       [4, 7, 6],\n",
       "       [8, 8, 1]])"
      ]
     },
     "execution_count": 64,
     "metadata": {},
     "output_type": "execute_result"
    }
   ],
   "source": [
    "# Pseudo-random numbers\n",
    "np.random.seed(seed=0)\n",
    "random_array_7 = np.random.randint(10, size=(5, 3))\n",
    "random_array_7"
   ]
  },
  {
   "cell_type": "code",
   "execution_count": 72,
   "id": "345b7757",
   "metadata": {},
   "outputs": [
    {
     "data": {
      "text/plain": [
       "array([[0.24851013, 0.44997542, 0.4109408 ],\n",
       "       [0.26029969, 0.87039569, 0.18503993],\n",
       "       [0.01966143, 0.95325203, 0.6804508 ],\n",
       "       [0.48658813, 0.96502682, 0.39339874],\n",
       "       [0.07955757, 0.35140742, 0.16363516]])"
      ]
     },
     "execution_count": 72,
     "metadata": {},
     "output_type": "execute_result"
    }
   ],
   "source": [
    "np.random.seed(seed=33)\n",
    "random_array_8 = np.random.random((5,3))\n",
    "random_array_8"
   ]
  },
  {
   "cell_type": "code",
   "execution_count": 77,
   "id": "8bb9e577",
   "metadata": {},
   "outputs": [
    {
     "data": {
      "text/plain": [
       "array([[0.24851013, 0.44997542, 0.4109408 ],\n",
       "       [0.26029969, 0.87039569, 0.18503993],\n",
       "       [0.01966143, 0.95325203, 0.6804508 ],\n",
       "       [0.48658813, 0.96502682, 0.39339874],\n",
       "       [0.07955757, 0.35140742, 0.16363516]])"
      ]
     },
     "execution_count": 77,
     "metadata": {},
     "output_type": "execute_result"
    }
   ],
   "source": [
    "np.random.seed(seed=33)\n",
    "random_array_8 = np.random.random((5,3))\n",
    "random_array_8"
   ]
  },
  {
   "cell_type": "markdown",
   "id": "b6ea0c4f",
   "metadata": {},
   "source": [
    "# 3. Viewing arrays & matrices"
   ]
  },
  {
   "cell_type": "code",
   "execution_count": 78,
   "id": "b1acdb49",
   "metadata": {},
   "outputs": [
    {
     "data": {
      "text/plain": [
       "array([0, 1, 2, 3, 4, 5, 6, 7, 8, 9])"
      ]
     },
     "execution_count": 78,
     "metadata": {},
     "output_type": "execute_result"
    }
   ],
   "source": [
    "np.unique(random_array_7)"
   ]
  },
  {
   "cell_type": "code",
   "execution_count": 79,
   "id": "cca93400",
   "metadata": {},
   "outputs": [
    {
     "data": {
      "text/plain": [
       "array([1, 2, 3])"
      ]
     },
     "execution_count": 79,
     "metadata": {},
     "output_type": "execute_result"
    }
   ],
   "source": [
    "a1"
   ]
  },
  {
   "cell_type": "code",
   "execution_count": 80,
   "id": "e7b46497",
   "metadata": {},
   "outputs": [
    {
     "data": {
      "text/plain": [
       "array([[1. , 2. , 3.3],\n",
       "       [4. , 5. , 6.5]])"
      ]
     },
     "execution_count": 80,
     "metadata": {},
     "output_type": "execute_result"
    }
   ],
   "source": [
    "a2"
   ]
  },
  {
   "cell_type": "code",
   "execution_count": 81,
   "id": "b31725c6",
   "metadata": {},
   "outputs": [
    {
     "data": {
      "text/plain": [
       "array([[[ 1,  2,  3],\n",
       "        [ 4,  5,  6]],\n",
       "\n",
       "       [[ 7,  8,  9],\n",
       "        [10, 11, 12]],\n",
       "\n",
       "       [[13, 14, 15],\n",
       "        [16, 17, 18]]])"
      ]
     },
     "execution_count": 81,
     "metadata": {},
     "output_type": "execute_result"
    }
   ],
   "source": [
    "a3"
   ]
  },
  {
   "cell_type": "code",
   "execution_count": 82,
   "id": "ac6781e7",
   "metadata": {},
   "outputs": [
    {
     "data": {
      "text/plain": [
       "1"
      ]
     },
     "execution_count": 82,
     "metadata": {},
     "output_type": "execute_result"
    }
   ],
   "source": [
    "a1[0]"
   ]
  },
  {
   "cell_type": "code",
   "execution_count": 83,
   "id": "25722ba1",
   "metadata": {},
   "outputs": [
    {
     "data": {
      "text/plain": [
       "array([1. , 2. , 3.3])"
      ]
     },
     "execution_count": 83,
     "metadata": {},
     "output_type": "execute_result"
    }
   ],
   "source": [
    "a2[0]"
   ]
  },
  {
   "cell_type": "code",
   "execution_count": 84,
   "id": "638a6f08",
   "metadata": {},
   "outputs": [
    {
     "data": {
      "text/plain": [
       "(3, 2, 3)"
      ]
     },
     "execution_count": 84,
     "metadata": {},
     "output_type": "execute_result"
    }
   ],
   "source": [
    "a3.shape"
   ]
  },
  {
   "cell_type": "code",
   "execution_count": 85,
   "id": "5a87d058",
   "metadata": {},
   "outputs": [
    {
     "data": {
      "text/plain": [
       "array([[1, 2, 3],\n",
       "       [4, 5, 6]])"
      ]
     },
     "execution_count": 85,
     "metadata": {},
     "output_type": "execute_result"
    }
   ],
   "source": [
    "a3[0]"
   ]
  },
  {
   "cell_type": "code",
   "execution_count": 86,
   "id": "063bc4b2",
   "metadata": {},
   "outputs": [
    {
     "data": {
      "text/plain": [
       "array([4. , 5. , 6.5])"
      ]
     },
     "execution_count": 86,
     "metadata": {},
     "output_type": "execute_result"
    }
   ],
   "source": [
    "a2[1]"
   ]
  },
  {
   "cell_type": "code",
   "execution_count": 93,
   "id": "c4161cd5",
   "metadata": {},
   "outputs": [
    {
     "data": {
      "text/plain": [
       "array([[[ 1,  2],\n",
       "        [ 4,  5]],\n",
       "\n",
       "       [[ 7,  8],\n",
       "        [10, 11]]])"
      ]
     },
     "execution_count": 93,
     "metadata": {},
     "output_type": "execute_result"
    }
   ],
   "source": [
    "a3[:2, :2, :2]"
   ]
  },
  {
   "cell_type": "code",
   "execution_count": 95,
   "id": "d749cff2",
   "metadata": {},
   "outputs": [
    {
     "data": {
      "text/plain": [
       "array([[[[0, 6, 6, 9, 3],\n",
       "         [3, 7, 2, 7, 2],\n",
       "         [2, 9, 0, 4, 1],\n",
       "         [3, 2, 9, 1, 0]],\n",
       "\n",
       "        [[2, 9, 8, 2, 1],\n",
       "         [7, 6, 7, 7, 0],\n",
       "         [4, 8, 2, 4, 7],\n",
       "         [6, 9, 5, 5, 2]],\n",
       "\n",
       "        [[0, 1, 0, 9, 6],\n",
       "         [4, 0, 2, 3, 5],\n",
       "         [1, 4, 8, 6, 9],\n",
       "         [3, 3, 9, 8, 9]]],\n",
       "\n",
       "\n",
       "       [[[6, 7, 2, 4, 7],\n",
       "         [4, 0, 8, 4, 6],\n",
       "         [7, 0, 1, 5, 1],\n",
       "         [7, 0, 2, 2, 0]],\n",
       "\n",
       "        [[4, 2, 6, 6, 4],\n",
       "         [3, 9, 2, 9, 5],\n",
       "         [1, 1, 8, 7, 9],\n",
       "         [2, 0, 7, 2, 0]],\n",
       "\n",
       "        [[4, 2, 0, 4, 6],\n",
       "         [2, 0, 4, 8, 6],\n",
       "         [8, 9, 0, 1, 9],\n",
       "         [8, 5, 2, 6, 1]]]])"
      ]
     },
     "execution_count": 95,
     "metadata": {},
     "output_type": "execute_result"
    }
   ],
   "source": [
    "a4 = np.random.randint(10, size=(2, 3, 4, 5))\n",
    "a4"
   ]
  },
  {
   "cell_type": "code",
   "execution_count": 96,
   "id": "675af87d",
   "metadata": {},
   "outputs": [
    {
     "data": {
      "text/plain": [
       "(2, 3, 4, 5)"
      ]
     },
     "execution_count": 96,
     "metadata": {},
     "output_type": "execute_result"
    }
   ],
   "source": [
    "# To understand shape start from the outermost array from right\n",
    "# 5 elements in a row\n",
    "# 4 rows\n",
    "# 3 sets or arrays\n",
    "# 2 groups\n",
    "a4.shape"
   ]
  },
  {
   "cell_type": "code",
   "execution_count": 97,
   "id": "9e4ace91",
   "metadata": {},
   "outputs": [
    {
     "data": {
      "text/plain": [
       "4"
      ]
     },
     "execution_count": 97,
     "metadata": {},
     "output_type": "execute_result"
    }
   ],
   "source": [
    "a4.ndim"
   ]
  },
  {
   "cell_type": "code",
   "execution_count": 100,
   "id": "c70f102e",
   "metadata": {},
   "outputs": [
    {
     "data": {
      "text/plain": [
       "array([[[[0, 6, 6],\n",
       "         [3, 7, 2],\n",
       "         [2, 9, 0],\n",
       "         [3, 2, 9]],\n",
       "\n",
       "        [[2, 9, 8],\n",
       "         [7, 6, 7],\n",
       "         [4, 8, 2],\n",
       "         [6, 9, 5]],\n",
       "\n",
       "        [[0, 1, 0],\n",
       "         [4, 0, 2],\n",
       "         [1, 4, 8],\n",
       "         [3, 3, 9]]],\n",
       "\n",
       "\n",
       "       [[[6, 7, 2],\n",
       "         [4, 0, 8],\n",
       "         [7, 0, 1],\n",
       "         [7, 0, 2]],\n",
       "\n",
       "        [[4, 2, 6],\n",
       "         [3, 9, 2],\n",
       "         [1, 1, 8],\n",
       "         [2, 0, 7]],\n",
       "\n",
       "        [[4, 2, 0],\n",
       "         [2, 0, 4],\n",
       "         [8, 9, 0],\n",
       "         [8, 5, 2]]]])"
      ]
     },
     "execution_count": 100,
     "metadata": {},
     "output_type": "execute_result"
    }
   ],
   "source": [
    "# Get the first 3 numbers of the innermost array ie. each row\n",
    "# Slice first three dimensions ie. (2, 3, 4) not 5\n",
    "# Slice all of dimension 1, all of 2, all of 3, but only up to first three numbers of dimension 4\n",
    "a4[:, :, :, :3 ]"
   ]
  },
  {
   "cell_type": "code",
   "execution_count": null,
   "id": "a039e221",
   "metadata": {},
   "outputs": [],
   "source": []
  }
 ],
 "metadata": {
  "kernelspec": {
   "display_name": "Python 3",
   "language": "python",
   "name": "python3"
  },
  "language_info": {
   "codemirror_mode": {
    "name": "ipython",
    "version": 3
   },
   "file_extension": ".py",
   "mimetype": "text/x-python",
   "name": "python",
   "nbconvert_exporter": "python",
   "pygments_lexer": "ipython3",
   "version": "3.9.6"
  }
 },
 "nbformat": 4,
 "nbformat_minor": 5
}
